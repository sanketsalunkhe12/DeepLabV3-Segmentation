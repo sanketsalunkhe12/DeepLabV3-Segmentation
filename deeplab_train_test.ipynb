{
  "nbformat": 4,
  "nbformat_minor": 0,
  "metadata": {
    "colab": {
      "name": "deeplab_train_test.ipynb",
      "provenance": [],
      "collapsed_sections": []
    },
    "kernelspec": {
      "name": "python3",
      "display_name": "Python 3"
    },
    "language_info": {
      "name": "python"
    },
    "accelerator": "GPU",
    "gpuClass": "standard"
  },
  "cells": [
    {
      "cell_type": "code",
      "execution_count": null,
      "metadata": {
        "id": "wZ43_2L-_tbj"
      },
      "outputs": [],
      "source": [
        "# This is the notebook for training and testing of DeepLabV3 model on Cityscape dataset\n",
        "# It contains the custom dataset preparation class for Cityscape \n",
        "# As a model we are using DeepLabV3 model from default PyTorch librar\n",
        "# Turn on GPU runtime as this is based on GPU enviornment"
      ]
    },
    {
      "cell_type": "code",
      "source": [
        "# Import all required libaries\n",
        "\n",
        "import torch\n",
        "import torch.nn as nn\n",
        "from torch.utils.data import DataLoader, Dataset\n",
        "from cv2 import imread\n",
        "import cv2\n",
        "import numpy as np\n",
        "from statistics import mean as mean\n",
        "\n",
        "from torchvision.models.segmentation import deeplabv3_mobilenet_v3_large as deeplab\n",
        "\n",
        "torch.cuda.is_available()"
      ],
      "metadata": {
        "colab": {
          "base_uri": "https://localhost:8080/"
        },
        "id": "eLFBGWecAL8f",
        "outputId": "045e700d-f918-4c85-af09-df2d67bd5f88"
      },
      "execution_count": null,
      "outputs": [
        {
          "output_type": "execute_result",
          "data": {
            "text/plain": [
              "True"
            ]
          },
          "metadata": {},
          "execution_count": 1
        }
      ]
    },
    {
      "cell_type": "code",
      "source": [
        "# For custom dataset prepare dataset directory as following:\n",
        "# Dataset\n",
        "#   |---target_images\n",
        "#      |---test\n",
        "#      |---train\n",
        "#      |---val \n",
        "#   |---input_images\n",
        "#      |---test\n",
        "#      |---train\n",
        "#      |---val\n",
        "#   |---list \n",
        "#      |---train.lst\n",
        "#      |---test.lst\n",
        "#      |---val.lst\n",
        "\n",
        "# The train.lst, test.lst and val.lst is a text file which contains the path to each individual image \n",
        "# For reference visit following drive folder to see cityscape_dataset format \n",
        "# https://drive.google.com/drive/folders/17ZsN-ebrWTxS7q1yMkzOJYIAt6EBkhzT?usp=sharing \n",
        "\n",
        "# In general for segmentation the model takes image in [N, C, H, W] dimension and generate output array of size \n",
        "# [class, H, W]. In case of cityscape we have total 30 class, so the input matrix has shape of [N, 3, 1024, 2048] and \n",
        "# output matrix of shape [30, 1024, 2048]\n",
        "# In output matrix each pixel has shape equal to no of classes and each element of that array represent value for each class.\n",
        "# After taking argmax of each pixel we will get id of that class and final image array will contain only [H, W] with each pixel has\n",
        "# class id.\n",
        "\n",
        "# In dataset we have input and target image. The target image need to convert into classID array. \n",
        "# In cityscape dataset: gray_valuye = (0.299*R + 0.587*G + 0.114*B)\n",
        "\n",
        "#     class_id = gray_value = color_value = objects\n",
        "\n",
        "#     0 = 0 = (0, 0, 0) = unlabeled, ego vehicle, rectification border, out of roi, static\n",
        "#     1 = 8 = (0, 0, 70) = truck\n",
        "#     2 = 10 = (0, 0, 90) = caravan\n",
        "#     3 = 13 = (0, 0, 110) = trailer\n",
        "#     4 = 16 = (0, 0, 142) = car\n",
        "#     5 = 26 = (0, 0, 230) = motorcycle\n",
        "#     6 = 33 = (81, 0, 81) = ground\n",
        "#     7 = 46 = (119, 11, 32) = bicycle\n",
        "#     8 = 47 = (0, 60, 100) = bus\n",
        "#     9 = 58 = (0, 80, 100) = train\n",
        "#     10 = 70 = (70, 70, 70) = building\n",
        "#     11 = 76 = (255, 0, 0) = rider\n",
        "#     12 = 77 = (111, 74, 0)  = dynamic\n",
        "#     13 = 84 = (220, 20, 60) = person\n",
        "#     14 = 90 = (128, 64, 128) = road\n",
        "#     15 = 108 = (102, 102, 156) = wall\n",
        "#     16 = 115 = (150, 100, 100) = bridge\n",
        "#     17 = 118 = (70, 130, 180) = sky\n",
        "#     18 = 119 = (107, 142, 35) = vegetation\n",
        "#     19 = 120 = (244, 35, 232) = sidewalk\n",
        "#     20 = 126 = (150, 120, 90) = tunnel\n",
        "#     21 = 153 = (153, 153, 153) = pole, polegroup\n",
        "#     22 = 164 = (190, 153, 153) = fence\n",
        "#     23 = 171 = (180, 165, 180) = guard rail\n",
        "#     24 = 173 = (230, 150, 140) = rail track\n",
        "#     25 = 178 = (250, 170, 30) = traffic light\n",
        "#     26 = 193 = (250, 170, 160) = parking\n",
        "#     27 = 195 = (220, 220, 0) = traffic sign\n",
        "#     28 = 210 = (152, 251, 152) = terrain\n",
        "\n",
        "# Folowing code will take train and validation target color images\n",
        "# convert them into grayscale and find unique pixels in all images which will be our class IDs\n",
        "# At the end it will give array of unique pixels which will be use in create_target_class_id function.\n",
        "\n",
        "# Its implementation takes little bit more time, as it will iterate all available images and find\n",
        "# unique pixels (class ids)"
      ],
      "metadata": {
        "id": "aELadzkTEslL"
      },
      "execution_count": null,
      "outputs": []
    },
    {
      "cell_type": "code",
      "source": [
        "# change path as per your folder structure\n",
        "\n",
        "train_file_path = \"/content/drive/MyDrive/segmentation/cityscape dataset/list/train.lst\"\n",
        "val_file_path = \"/content/drive/MyDrive/segmentation/cityscape dataset/list/val.lst\"\n",
        "\n",
        "# for train.lst\n",
        "\n",
        "with open(train_file_path) as f:\n",
        "  train_path_list = f.read().split()\n",
        "  train_path_list = np.array(train_path_list).reshape(int(len(train_path_list)/2),2)\n",
        "\n",
        "train_input_list = train_path_list[:,0]\n",
        "train_target_list = train_path_list[:,1]\n",
        "\n",
        "# for val.lst\n",
        "\n",
        "with open(val_file_path) as g:\n",
        "  val_path_list = g.read().split()\n",
        "  val_path_list = np.array(val_path_list).reshape(int(len(val_path_list)/2),2)\n",
        "\n",
        "val_input_list = val_path_list[:,0]\n",
        "val_target_list = val_path_list[:,1]\n",
        "\n",
        "# list of all target image path\n",
        "\n",
        "target_list = np.concatenate((train_target_list, val_target_list))"
      ],
      "metadata": {
        "id": "gXPooXRmrveH"
      },
      "execution_count": null,
      "outputs": []
    },
    {
      "cell_type": "code",
      "source": [
        "# This part of code need to run once if you are using some different dataset other than Cityscape dataset\n",
        "# Either your custom dataset or any other segmentation dataset\n",
        "\n",
        "path = '/content/drive/MyDrive/segmentation/cityscape dataset/'\n",
        "target_all_pixels = []\n",
        "\n",
        "for i in target_list:\n",
        "  # image import\n",
        "  color_img_path = str(i)[:-12]+'color.png'\n",
        "  target_image = imread(path+color_img_path)\n",
        "\n",
        "  # convert image into grayscale\n",
        "  target_gray_image = cv2.cvtColor(target_image, cv2.COLOR_BGR2GRAY)\n",
        "\n",
        "  # getting unique pixels\n",
        "  temp = np.unique(target_gray_image)\n",
        "  target_all_pixels = np.concatenate((target_all_pixels, temp))\n",
        "\n",
        "\n",
        "target_unique_pixels = np.unique(target_all_pixels)\n",
        "print(target_unique_pixels)\n",
        "\n",
        "# target_unique_pixels will give list of pixels which are related to class id"
      ],
      "metadata": {
        "id": "XN4hFd5bsZ89"
      },
      "execution_count": null,
      "outputs": []
    },
    {
      "cell_type": "code",
      "source": [
        "# A class for data preprocessing\n",
        "# It takes the list of input and target image path in the form of list which is in a sequential order\n",
        "\n",
        "# Once list of input and target image path is given to the class object\n",
        "# It will import image one by one within __getitem__ function\n",
        "# x, y will store input and target image in numpy format\n",
        "\n",
        "# Data Processing for Input Image:\n",
        "# 1. Normalize the image\n",
        "# 2. Convert np array from [H, w, C] dimension into [C, H, W] dimension\n",
        "#    For model, the input image is required in [N, C, H, W] format. N is the number of images in single batch\n",
        "#    In dataset creation input will be converted in [C, H, W] format while remaining N dimension will added during Dataloader stage\n",
        "\n",
        "# Data Processing for Target Image:\n",
        "# 1. Convert color taget image into grayscale. In target image, each color represent\n",
        "#    individual class. BGR2GRAY convert 3D color array for class into single pixel value for each class\n",
        "#    More description in above cell \n",
        "# 2. Create a classID numpy array using create_target_class_id function\n",
        "\n",
        "# At last it will return x, y (input, target) into tensor format, where x is in [C, H, W] dimension and \n",
        "# y is in [H, w] dimension. (H: Height, W: Width, C: no of channel)\n",
        "\n",
        "\n",
        "\n",
        "class DeepLab_Dataset_Creation(Dataset):\n",
        "  \n",
        "  def __init__(self, input: list, target: list):\n",
        "    self.target = target\n",
        "    self.input = input\n",
        "    self.input_dtype = torch.float32\n",
        "    self.target_dtype = torch.long\n",
        "\n",
        "  def __len__(self):\n",
        "    return len(self.input)\n",
        "\n",
        "  def create_target_class_id(self, target: np.ndarray):\n",
        "    pixel_values = np.array([  0.,   8.,  10.,  13.,  16.,  26.,  33.,  46.,  47.,  58.,  70.,\n",
        "        76.,  77.,  84.,  90., 108., 115., 118., 119., 120., 126., 153.,\n",
        "       164., 171., 173., 178., 193., 195., 210.])\n",
        "    dummy = np.zeros_like(target)\n",
        "    for id, value in enumerate(pixel_values):\n",
        "      mask = np.where(target == value)\n",
        "      dummy[mask] = id\n",
        "    return dummy\n",
        "\n",
        "  def normalize(self, input: np.ndarray):\n",
        "    norm_input = (input - np.min(input))/np.ptp(input)\n",
        "    return norm_input\n",
        "\n",
        "  def __getitem__(self, index: int):\n",
        "    input_path = self.input[index]\n",
        "    temp_target_path = self.target[index]\n",
        "\n",
        "    target_path = str(temp_target_path)[:-12]+'color.png'\n",
        "    folder_path = '/content/drive/MyDrive/segmentation/cityscape dataset/'\n",
        "\n",
        "    x, y = imread(folder_path+input_path), imread(folder_path+target_path)\n",
        "    x = self.normalize(x)\n",
        "    x = np.moveaxis(x, -1, 0)\n",
        "\n",
        "    y = cv2.cvtColor(y, cv2.COLOR_BGR2GRAY)\n",
        "    y = self.create_target_class_id(y)\n",
        "\n",
        "    x, y = torch.from_numpy(x).type(self.input_dtype), torch.from_numpy(y).type(self.target_dtype)\n",
        "\n",
        "    return x, y"
      ],
      "metadata": {
        "id": "odoDbvqvA3lU"
      },
      "execution_count": null,
      "outputs": []
    },
    {
      "cell_type": "code",
      "source": [
        "# Creating a training and validation dataset and dataloader\n",
        "# Dataloader takes x,y dataset and create a batches of required size for training\n",
        "# Dataloader also shapes the input in [N, C, H, W] format which is required shape for model\n",
        "\n",
        "training_dataset = DeepLab_Dataset_Creation(input = train_input_list, target = train_target_list)\n",
        "training_dataloader = DataLoader(dataset = training_dataset, batch_size = 2, shuffle = True)\n",
        "\n",
        "validation_dataset = DeepLab_Dataset_Creation(input = val_input_list, target = val_target_list)\n",
        "validation_dataloader = DataLoader(dataset = validation_dataset, batch_size = 2, shuffle = True)"
      ],
      "metadata": {
        "id": "i1IW8T6xwFH9"
      },
      "execution_count": null,
      "outputs": []
    },
    {
      "cell_type": "code",
      "source": [
        "# DeepLab model creation and importing pre-trained weights\n",
        "# If you wants to directly implement model just import pre-trained weights\n",
        "# Otherwise if wanted to train from scratch just load model only\n",
        "\n",
        "deeplab_model = deeplab(num_classes=30)\n",
        "\n",
        "# pre-trained models\n",
        "\n",
        "model_weight_path = '/content/deeplab_model3_22.pth'    #changed as per your model path\n",
        "deeplab_model.load_state_dict(torch.load(model_weight_path))\n"
      ],
      "metadata": {
        "colab": {
          "base_uri": "https://localhost:8080/"
        },
        "id": "4QUajjHUx406",
        "outputId": "295a391f-86d3-4d7d-fb5f-1334a4331f77"
      },
      "execution_count": null,
      "outputs": [
        {
          "output_type": "execute_result",
          "data": {
            "text/plain": [
              "<All keys matched successfully>"
            ]
          },
          "metadata": {},
          "execution_count": 5
        }
      ]
    },
    {
      "cell_type": "code",
      "source": [
        "# Training model function\n",
        "\n",
        "def train(train_dataloader, deeplab_model, num_epoch, optimizer, loss_fn):\n",
        "  \n",
        "  deeplab_model.train()\n",
        "  deeplab_model.to('cuda') \n",
        "  loss_list = []\n",
        "\n",
        "  for epoch in range(num_epoch):\n",
        "    print('Epoch {}'.format(epoch))\n",
        "    epoch_loss = []\n",
        "\n",
        "    for x,y in train_dataloader:\n",
        "        input = x.to('cuda')\n",
        "        target = y.to('cuda')\n",
        "        \n",
        "        optimizer.zero_grad()\n",
        "\n",
        "        pred_output = deeplab_model(input)\n",
        "        loss = loss_fn(pred_output['out'], target)\n",
        "\n",
        "        y_pred = pred_output['out'].data.cpu().numpy().ravel()\n",
        "        y_true = target.data.cpu().numpy().ravel()\n",
        "\n",
        "        loss.backward()\n",
        "        optimizer.step()\n",
        "\n",
        "        epoch_loss.append(float(loss))\n",
        "\n",
        "        print('\\n loss: {}'.format(loss))\n",
        "    \n",
        "    loss_list.append(mean(epoch_loss))\n",
        "    torch.save(deeplab_model.state_dict(), 'deeplab_model_{}.pth'.format(epoch))\n",
        "    print('\\n model saved')\n",
        "\n",
        "  return loss_list"
      ],
      "metadata": {
        "id": "G8Y7vw8xzKEr"
      },
      "execution_count": null,
      "outputs": []
    },
    {
      "cell_type": "code",
      "source": [
        "# Validation model function\n",
        "\n",
        "def valid(valid_dataloader, deeplab_model, optimizer, loss_fn):\n",
        "  \n",
        "  deeplab_model.eval()\n",
        "  deeplab_model.to('cuda') \n",
        "  val_loss_list = []\n",
        "\n",
        "  for x,y in valid_dataloader:\n",
        "      input = x.to('cuda')\n",
        "      target = y.to('cuda')\n",
        "\n",
        "      pred_output = deeplab_model(input)\n",
        "      loss = loss_fn(pred_output['out'], target)\n",
        "\n",
        "      val_loss_list.append(float(loss))\n",
        "\n",
        "      print('\\n loss: {}'.format(loss))\n",
        "\n",
        "  print('Average Validation loss: {}'.format(mean(val_loss_list)))"
      ],
      "metadata": {
        "id": "XJX3dweu1pD9"
      },
      "execution_count": null,
      "outputs": []
    },
    {
      "cell_type": "code",
      "source": [
        "# Training process\n",
        "# Each epoch over entire CityScape dataset takes around 30 min\n",
        "# After each epoch model weight will be saved and list of loss at each\n",
        "# epoch is saved in epoch_loss variable\n",
        "\n",
        "epoch = 40\n",
        "lr = 0.0005\n",
        "loss_fn = nn.CrossEntropyLoss()\n",
        "optimizer = torch.optim.Adadelta(deeplab_model.parameters(), lr=lr)\n",
        "\n",
        "# epoch_loss = train(training_dataloader, deeplab_model, epoch, optimizer, loss_fn)\n",
        "# print(epoch_loss)"
      ],
      "metadata": {
        "id": "DD5av2nj29-a"
      },
      "execution_count": null,
      "outputs": []
    },
    {
      "cell_type": "code",
      "source": [
        "# Validation process\n",
        "\n",
        "valid(validation_dataloader, deeplab_model, optimizer, loss_fn)"
      ],
      "metadata": {
        "id": "0v8Efx-e3n0P"
      },
      "execution_count": null,
      "outputs": []
    },
    {
      "cell_type": "code",
      "source": [
        "# For testing/implementing model\n",
        "# Create a test image path list and prepare image for model \n",
        "# and prepare model for testing purpose\n",
        "\n",
        "test_file_path = '/content/drive/MyDrive/segmentation/cityscape dataset/list/test.lst'\n",
        "\n",
        "with open(test_file_path) as f:\n",
        "  test_path_list = f.read().split()\n",
        "  test_path_list = np.array(test_path_list)\n",
        "\n",
        "def PrepareTestImg(img_path):\n",
        "  path = '/content/drive/MyDrive/segmentation/cityscape dataset/'\n",
        "  x = imread(path+img_path)\n",
        "  x_norm = (x - np.min(x))/np.ptp(x)    # normalize image\n",
        "  x = np.moveaxis(x_norm, -1, 0)  \n",
        "  x = x[np.newaxis,:,:,:]               # add 1 more dimension to match input shape \n",
        "  x = torch.from_numpy(x).type(torch.float32)\n",
        "  return x\n",
        "\n",
        "deeplab_model.eval()\n",
        "deeplab_model.to('cuda')"
      ],
      "metadata": {
        "id": "SbpPCB2h58_q"
      },
      "execution_count": null,
      "outputs": []
    },
    {
      "cell_type": "code",
      "source": [
        "# Create test image\n",
        "\n",
        "test_image = PrepareTestImg(test_path_list[10])    # sending one image by one\n",
        "test_image = test_image.to('cuda')"
      ],
      "metadata": {
        "id": "Gi_oDfag8nMf"
      },
      "execution_count": null,
      "outputs": []
    },
    {
      "cell_type": "code",
      "source": [
        "# Generating predicted output\n",
        "\n",
        "pred_target = deeplab_model(test_image)\n",
        "\n",
        "pred_target_output = pred_target['out'].data.cpu().numpy()\n",
        "pred_target_output = pred_target_output[0]\n",
        "pred_target_output = np.moveaxis(pred_target_output, 0, -1)\n",
        "pred_target_output = pred_target_output.argmax(2)"
      ],
      "metadata": {
        "id": "T3pPXiHl7zXB"
      },
      "execution_count": null,
      "outputs": []
    },
    {
      "cell_type": "code",
      "source": [
        "# Visualize the predicted image with different class\n",
        "# This array's each pixel has its class id\n",
        "\n",
        "from matplotlib import pyplot as plt\n",
        "\n",
        "fig, ax = plt.subplots()\n",
        "im = ax.imshow(pred_target_output)\n",
        "\n",
        "plt.show()"
      ],
      "metadata": {
        "colab": {
          "base_uri": "https://localhost:8080/",
          "height": 219
        },
        "id": "xMfUhEwJ8PlP",
        "outputId": "397ed880-0351-4297-ea9e-9c3fc7f0d60b"
      },
      "execution_count": null,
      "outputs": [
        {
          "output_type": "display_data",
          "data": {
            "text/plain": [
              "<Figure size 432x288 with 1 Axes>"
            ],
            "image/png": "[encoded data removed]"
          },
          "metadata": {
            "needs_background": "light"
          }
        }
      ]
    }
  ]
}